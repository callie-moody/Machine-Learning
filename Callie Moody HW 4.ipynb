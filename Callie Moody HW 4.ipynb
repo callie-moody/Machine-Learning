{
 "cells": [
  {
   "cell_type": "markdown",
   "id": "9b5a723e",
   "metadata": {},
   "source": [
    "You are given a training dataset in CSV format (hw4_cluster.csv). The files each contain 40 rows with 2 columns. Column 1 & 2 are the features. There are no labels for this dataset. Your goal for this assignment is to implement different clustering algorithms and run them on this dataset. For this assignment you can assume the distance function is the Euclidean distance."
   ]
  },
  {
   "cell_type": "code",
   "execution_count": 1,
   "id": "81aea9e3",
   "metadata": {},
   "outputs": [
    {
     "data": {
      "text/plain": [
       "<matplotlib.collections.PathCollection at 0x7fe518de69d0>"
      ]
     },
     "execution_count": 1,
     "metadata": {},
     "output_type": "execute_result"
    },
    {
     "data": {
      "image/png": "[encoded data removed]",
      "text/plain": [
       "<Figure size 432x288 with 1 Axes>"
      ]
     },
     "metadata": {
      "needs_background": "light"
     },
     "output_type": "display_data"
    }
   ],
   "source": [
    "import autograd.numpy as np\n",
    "from autograd import grad \n",
    "import matplotlib.pyplot as plt\n",
    "import random\n",
    "import math\n",
    "import statistics\n",
    "%matplotlib inline\n",
    "\n",
    "csvname = 'hw4_cluster.csv'\n",
    "data = np.loadtxt(csvname,delimiter = ',',skiprows=1)\n",
    "x1=[]\n",
    "x2=[]\n",
    "for i in data:\n",
    "    x1.append(i[0])\n",
    "    x2.append(i[1])\n",
    "plt.scatter(x1,x2,color='red')"
   ]
  },
  {
   "cell_type": "markdown",
   "id": "12dd1c4d",
   "metadata": {},
   "source": [
    "1) (35 points) Implement a generalized K-means/median algorithm. You should have a single function that takes in as input the data points, K, and some other hyperparameters, specified below. The function should return K sets of data points. Each set corresponding to one cluster.\n",
    "\n",
    "The hyperparameters your functions should support and the values they can take are:\n",
    "\n",
    "-The method for calculating the centroid: Means or Median\n",
    "-The initialization method: Random Split Initialization or Random Seed Selection Method\n",
    "-Max_iter: max number of iterations to run the algorithm.\n",
    "-K: number of clusters\n",
    "\n",
    "Note that your stopping condition should have two parts: \n",
    "1) stop if you reach the max iterations \n",
    "2) stop if no change is made to the clusters in the last step.\n",
    "\n",
    "You will be running this code in question 3 of the assignment. For this part you just need to\n",
    "implement the function."
   ]
  },
  {
   "cell_type": "code",
   "execution_count": 2,
   "id": "96d57f79",
   "metadata": {},
   "outputs": [],
   "source": [
    "def meancentroid(points):\n",
    "    x1=[]\n",
    "    x2=[]\n",
    "    for i in points: \n",
    "        x1.append(i[0])\n",
    "        x2.append(i[1])\n",
    "    return np.mean(x1), np.mean(x2)\n",
    "\n",
    "def mediancentroid(points):\n",
    "    x1=[]\n",
    "    x2=[]\n",
    "    for i in points: \n",
    "        x1.append(i[0])\n",
    "        x2.append(i[1])\n",
    "    return np.median(x1), np.median(x2)\n",
    "        \n",
    "def splitinitialization(points, k):\n",
    "    clusters=[]\n",
    "    for i in range(0,k):\n",
    "        cluster=[]\n",
    "        for j in range(0,math.floor(len(points)/k)):\n",
    "            index=random.randrange(len(points))\n",
    "            cluster.append(points[index])\n",
    "            np.delete(points,index)\n",
    "        clusters.append(cluster)\n",
    "    return clusters\n",
    "        \n",
    "def seedinitialization(points, k):\n",
    "    clusters=[]\n",
    "    for i in range(0,k):\n",
    "        index=random.randrange(len(points))\n",
    "        clusters.append([points[index]])\n",
    "        np.delete(points,index)\n",
    "    return clusters\n",
    "\n",
    "def distance(pt1, pt2):\n",
    "    return math.sqrt(np.sum((pt1-pt2)**2))\n",
    "\n",
    "def kclustering(points, centroidcalc, initialization, max_iter, k):\n",
    "    change=True\n",
    "    initpoints=points\n",
    "    clusters=initialization(initpoints,k)\n",
    "    centroids=[]\n",
    "    its=0\n",
    "    while its<max_iter and change==True:\n",
    "        centroidsold=centroids\n",
    "        centroids=[]\n",
    "        for cluster in clusters:\n",
    "            centroids.append(centroidcalc(cluster))\n",
    "            cluster=[]\n",
    "        for point in points:\n",
    "            minindex=0\n",
    "            index=0\n",
    "            for i in centroids:\n",
    "                if distance(i,point)<distance(centroids[minindex],point):\n",
    "                    minindex=index\n",
    "                index+=1\n",
    "            clusters[minindex].append(point)\n",
    "        if centroidsold==centroids:\n",
    "            change=False\n",
    "        its+=1\n",
    "    return clusters\n",
    "    "
   ]
  },
  {
   "cell_type": "markdown",
   "id": "e054622c",
   "metadata": {},
   "source": [
    "2) (15 points) SSE score. \n",
    "In this part of the assignment, you are implementing a function that calculates the SSE for a list of clusters. The function should take in a list of clusters (such as the output of the last function you implemented) and return a single SSE score.\n"
   ]
  },
  {
   "cell_type": "code",
   "execution_count": 3,
   "id": "fd596063",
   "metadata": {},
   "outputs": [],
   "source": [
    "def SSE(centroidcalc, clusters):\n",
    "    SSE=0\n",
    "    for cluster in clusters:\n",
    "        centroid=centroidcalc(cluster)\n",
    "        for point in cluster:\n",
    "            SSE+=distance(centroid,point)\n",
    "    return SSE"
   ]
  },
  {
   "cell_type": "markdown",
   "id": "adedcca5",
   "metadata": {},
   "source": [
    "3) (15 points) Finding best K.\n",
    "Run the code you implemented in question 1 for k=2,3,4,5. Set the other hyperparameters to the following:\n",
    "\n",
    "-The method for calculating the centroid: Mean\n",
    "-The initialization method: Random Split Initialization\n",
    "-Max_iterations: 100\n",
    "\n",
    "Calculate the SSE for each K using the function in question 2 and use these scores to pick the best K. What is the best K?\n",
    "\n",
    "\n",
    "\n",
    "when k=5, the lowest SSE is observed, making it the best SSE in my opinion."
   ]
  },
  {
   "cell_type": "code",
   "execution_count": 4,
   "id": "4c7fdfb3",
   "metadata": {},
   "outputs": [],
   "source": [
    "c2= kclustering(data, meancentroid, splitinitialization, 100, 2)\n",
    "\n",
    "c3= kclustering(data, meancentroid, splitinitialization, 100, 3)\n",
    "\n",
    "c4= kclustering(data, meancentroid, splitinitialization, 100, 4)\n",
    "\n",
    "c5= kclustering(data, meancentroid, splitinitialization, 100, 5)"
   ]
  },
  {
   "cell_type": "code",
   "execution_count": 5,
   "id": "f8fb9a1b",
   "metadata": {},
   "outputs": [
    {
     "data": {
      "text/plain": [
       "<matplotlib.collections.PathCollection at 0x7fe518f1fe90>"
      ]
     },
     "execution_count": 5,
     "metadata": {},
     "output_type": "execute_result"
    },
    {
     "data": {
      "image/png": "[encoded data removed]",
      "text/plain": [
       "<Figure size 432x288 with 1 Axes>"
      ]
     },
     "metadata": {
      "needs_background": "light"
     },
     "output_type": "display_data"
    }
   ],
   "source": [
    "s2=SSE(meancentroid, c2)\n",
    "s3=SSE(meancentroid, c3)\n",
    "s4=SSE(meancentroid, c4)\n",
    "s5=SSE(meancentroid, c5)\n",
    "plt.scatter([2,3,4,5],[s2,s3,s4,s5],color='red')"
   ]
  },
  {
   "cell_type": "markdown",
   "id": "aa702e25",
   "metadata": {},
   "source": [
    "Don’t be so Naïve! \n",
    "\n",
    "You are given a training dataset in CSV format (hw4_naive.csv). The training data has 5,600 rows:\n",
    "\n",
    "• Columns 1 through 6 of the given CSV file represent the features (X)\n",
    "• The last column (“Label”) represents the class label (Y) (0 or 1)\n",
    "\n",
    "You are required to implement the following models and train/test them using this\n",
    "dataset. Note that you can use sklearn unless the question asks that you implement your code from scratch.\n"
   ]
  },
  {
   "cell_type": "markdown",
   "id": "271e9a08",
   "metadata": {},
   "source": [
    "1) (5 points) Divide the data into test / train sets (80% and 20% respectively)\n",
    "\n"
   ]
  },
  {
   "cell_type": "code",
   "execution_count": 6,
   "id": "a2007928",
   "metadata": {},
   "outputs": [],
   "source": [
    "csvname = 'hw4_naive.csv'\n",
    "data = np.loadtxt(csvname,delimiter = ',',skiprows=1)\n",
    "from sklearn.model_selection import train_test_split \n",
    "train, test= train_test_split(data, test_size=0.20)"
   ]
  },
  {
   "cell_type": "markdown",
   "id": "ca475ed2",
   "metadata": {},
   "source": [
    "2) (25 points) Implement a Multinomial Naïve Bayes classifier from scratch, with smoothing (you can set the default smoothing value to 1). You are free to code this up however you like, however, make sure that there is a function that can be called with a test X vector and returns the predicted Y.\n",
    "\n"
   ]
  },
  {
   "cell_type": "code",
   "execution_count": 7,
   "id": "a5905147",
   "metadata": {},
   "outputs": [
    {
     "name": "stderr",
     "output_type": "stream",
     "text": [
      "/Users/calliemoody/opt/anaconda3/envs/testenv/lib/python3.7/site-packages/numpy/core/fromnumeric.py:86: RuntimeWarning: overflow encountered in reduce\n",
      "  return ufunc.reduce(obj, axis, dtype, out, **passkwargs)\n",
      "/Users/calliemoody/opt/anaconda3/envs/testenv/lib/python3.7/site-packages/numpy/core/fromnumeric.py:86: RuntimeWarning: invalid value encountered in reduce\n",
      "  return ufunc.reduce(obj, axis, dtype, out, **passkwargs)\n"
     ]
    },
    {
     "data": {
      "text/plain": [
       "1"
      ]
     },
     "execution_count": 7,
     "metadata": {},
     "output_type": "execute_result"
    }
   ],
   "source": [
    "def multinomialbayes(train, x):\n",
    "    likelihood=0\n",
    "    prior=0\n",
    "    numrows=0\n",
    "    for row in train:\n",
    "        numrows+=1\n",
    "        prior+=row[6]\n",
    "    prior=prior/numrows\n",
    "    \n",
    "    m= [row for row in train if [1]==row[6]]\n",
    "    n= [row for row in train if [0]==row[6]]\n",
    "    \n",
    "    mcount=[1,1,1,1,1,1]\n",
    "    ncount=[1,1,1,1,1,1]\n",
    "    \n",
    "    for row in m:\n",
    "        for i in range(len(row)-1):\n",
    "            if row[i]==x[i]:\n",
    "                mcount[i]+=1\n",
    "    for row in n:\n",
    "        for i in range(len(row)-1):\n",
    "            if row[i]==x[i]:\n",
    "                mcount[i]+=1\n",
    "    \n",
    "    \n",
    "    a1=np.product(n)*(1-prior)/(len(n)+2)**5\n",
    "    a2=np.product(m)*prior/(len(m)+2)**5\n",
    "    \n",
    "    if a1>a2:\n",
    "        return 0\n",
    "    return 1\n",
    "\n",
    "\n",
    "multinomialbayes(train, [14303,102632,-5702.2,144,281,4061,1])"
   ]
  },
  {
   "cell_type": "markdown",
   "id": "a15be88f",
   "metadata": {},
   "source": [
    "3) (25 points) Implement a Gaussian Naïve Bayes classier from scratch (no need for smoothing here).\n",
    "\n"
   ]
  },
  {
   "cell_type": "code",
   "execution_count": 8,
   "id": "57cfede4",
   "metadata": {},
   "outputs": [
    {
     "data": {
      "text/plain": [
       "0"
      ]
     },
     "execution_count": 8,
     "metadata": {},
     "output_type": "execute_result"
    }
   ],
   "source": [
    "def gaussianbayes(train, x):\n",
    "    likelihood=0\n",
    "    prior=0\n",
    "    numrows=0\n",
    "    for row in train:\n",
    "        numrows+=1\n",
    "        prior+=row[6]\n",
    "    prior=prior/numrows\n",
    "    \n",
    "    m= [row for row in train if [1]==row[6]]\n",
    "    n= [row for row in train if [0]==row[6]]\n",
    "    \n",
    "    mcount=[[],[],[],[],[],[]]\n",
    "    ncount=[[],[],[],[],[],[]]\n",
    "    \n",
    "    for row in m:\n",
    "        for i in range(len(row)-1):\n",
    "            mcount[i].append(row[i])\n",
    "    for row in n:\n",
    "        for i in range(len(row)-1):\n",
    "            ncount[i].append(row[i])\n",
    "    means0=[]\n",
    "    means1=[]\n",
    "    std0=[]\n",
    "    std1=[]\n",
    "    for i in range(len(row)-1):\n",
    "        np.array(ncount[i])\n",
    "        np.array(mcount[i])\n",
    "        means0.append(np.mean(ncount[i]))\n",
    "        means1.append(np.mean(mcount[i]))\n",
    "        std0.append(np.std(ncount[i])**2)\n",
    "        std1.append(np.std(mcount[i])**2)\n",
    "        \n",
    "    a0=(1-prior)\n",
    "    a1=prior\n",
    "    \n",
    "    for i in range(len(row)-1):\n",
    "        a0=a0*(1/math.sqrt(2*math.pi*std0[i]))*np.exp(0-(x[i]-means0[i])/(2*std0[i]))\n",
    "        a1=a1*(1/math.sqrt(2*math.pi*std1[i]))*np.exp(0-(x[i]-means1[i])/(2*std1[i]))\n",
    "    \n",
    "    if a1<a0:\n",
    "        return 0\n",
    "    return 1\n",
    "\n",
    "\n",
    "gaussianbayes(train, [14303,102632,-5702.2,144,281,4061,1])"
   ]
  },
  {
   "cell_type": "markdown",
   "id": "5c70b7ed",
   "metadata": {},
   "source": [
    "4) (10 points) Calculate the accuracy and the F1 score of test data using both of your models\n",
    "implemented above."
   ]
  },
  {
   "cell_type": "code",
   "execution_count": null,
   "id": "2031cc12",
   "metadata": {},
   "outputs": [],
   "source": [
    "TP=0\n",
    "FP=0\n",
    "FN=0\n",
    "TN=0\n",
    "TPm=0\n",
    "FPm=0\n",
    "FNm=0\n",
    "TNm=0\n",
    "for x in test:\n",
    "    pred=gaussianbayes(train,x)\n",
    "    if pred==1 and x[6]==[1]:\n",
    "        TP+=1\n",
    "    elif pred==1:\n",
    "        FP+=1\n",
    "    elif x[6]==[1]:\n",
    "        FN+=1\n",
    "    else:\n",
    "        TN+=1\n",
    "    predm=multinomialbayes(train,x)\n",
    "    if predm==1 and x[6]==[1]:\n",
    "        TPm+=1\n",
    "    elif predm==1:\n",
    "        FPm+=1\n",
    "    elif x[6]==[1]:\n",
    "        FNm+=1\n",
    "    else:\n",
    "        TNm+=1 "
   ]
  },
  {
   "cell_type": "code",
   "execution_count": null,
   "id": "12960608",
   "metadata": {},
   "outputs": [],
   "source": [
    "precision=TP/(TP+FP)\n",
    "recall=TP/(TP+FN)\n",
    "accuracy=(TP+TN)/(TP+TN+FP+FN)\n",
    "F1=2*precision*recall/(precision+recall)\n",
    "print(\"gaussian F1 = \")\n",
    "print (F1)\n",
    "print(\"gaussian accuracy = \")\n",
    "print (accuracy)\n",
    "    \n",
    "precisionm=TPm/(TPm+FPm)\n",
    "recallm=TPm/(TPm+FNm)\n",
    "accuracym=(TPm+TNm)/(TPm+TNm+FPm+FNm)\n",
    "F1m=2*precisionm*recallm/(precisionm+recallm)\n",
    "print( \"multinomial F1 = \")\n",
    "print (F1m)\n",
    "print( \"multinomial accuracy = \")\n",
    "print (accuracym)"
   ]
  },
  {
   "cell_type": "code",
   "execution_count": null,
   "id": "7b6562dc",
   "metadata": {},
   "outputs": [],
   "source": []
  },
  {
   "cell_type": "code",
   "execution_count": null,
   "id": "20a107f8",
   "metadata": {},
   "outputs": [],
   "source": []
  }
 ],
 "metadata": {
  "kernelspec": {
   "display_name": "Python 3 (ipykernel)",
   "language": "python",
   "name": "python3"
  },
  "language_info": {
   "codemirror_mode": {
    "name": "ipython",
    "version": 3
   },
   "file_extension": ".py",
   "mimetype": "text/x-python",
   "name": "python",
   "nbconvert_exporter": "python",
   "pygments_lexer": "ipython3",
   "version": "3.7.11"
  }
 },
 "nbformat": 4,
 "nbformat_minor": 5
}

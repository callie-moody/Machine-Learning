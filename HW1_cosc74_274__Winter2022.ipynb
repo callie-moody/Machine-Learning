{
 "cells": [
  {
   "cell_type": "markdown",
   "metadata": {},
   "source": [
    "# HW1  Try out gradient descent"
   ]
  },
  {
   "cell_type": "markdown",
   "metadata": {},
   "source": [
    "## Due Thursday Feb 3rd, 2022 at 11:59PM"
   ]
  },
  {
   "cell_type": "markdown",
   "metadata": {},
   "source": [
    "You should submit this jupyter notebook with your solutions. The solutions should include the code and also the output of all the cells.\n",
    "\n",
    "Note that for the problems that require a cost function as input you should always use the most recent cost function that you have implemented (unless specified otherwise)."
   ]
  },
  {
   "cell_type": "markdown",
   "metadata": {},
   "source": [
    "1) [5 points] Calculate the derivative of following cost function and write it down:\n",
    "\n",
    "$g(w) = \\frac{1}{50}\\left(w^4 + w^2 + 10w - 50 \\right)$"
   ]
  },
  {
   "cell_type": "markdown",
   "metadata": {},
   "source": [
    "$\\frac{\\partial}{\\partial w}g(w) = 1/50(4w^3+2w+10)$"
   ]
  },
  {
   "cell_type": "markdown",
   "metadata": {},
   "source": [
    "2) [25 points] Implement the gradient descent function as discussed in class using the gradient derived in the last problem. The function should return the cost history for each step. Use the code template below:\n"
   ]
  },
  {
   "cell_type": "code",
   "execution_count": 47,
   "metadata": {},
   "outputs": [],
   "source": [
    "#gradient descent function\n",
    "#inputs: alpha (learning rate parameter), max_its (maximum number of iterations), w0 (initialization)\n",
    "def gradient_descent(alpha,max_its,w0):\n",
    "    index=0\n",
    "    cost_history=[w0]\n",
    "    while index<max_its:\n",
    "        index+=1\n",
    "        cost=(1/50)*(w0**4+w0**2+10*w0-50)\n",
    "        cost_history.append(cost)\n",
    "        w1=w0-alpha*(1/50)*(4*w0**3+2*w0+10)\n",
    "        w0=w1\n",
    "    return cost_history"
   ]
  },
  {
   "cell_type": "markdown",
   "metadata": {},
   "source": [
    "3) [10 points] Run the gradient_descent function you implemented three times, with the following parameters. Generate a single plot showing the cost as a function of step number for all three runs (combine all three runs into a single plot). If you are not familiar with plotting in python, here is the docs for matplotlib:(https://matplotlib.org/3.2.1/api/_as_gen/matplotlib.pyplot.plot.html#matplotlib.pyplot.plot). \n",
    "\n",
    "\n",
    "$w^0$ = 2.0\n",
    "max_its = 1000\n",
    "\n",
    "# first run\n",
    "alpha = 1\n",
    "\n",
    "\n",
    "# second run\n",
    "alpha = 0.1\n",
    "\n",
    "# third run\n",
    "alpha = 0.01\n",
    "\n"
   ]
  },
  {
   "cell_type": "code",
   "execution_count": 48,
   "metadata": {},
   "outputs": [
    {
     "data": {
      "text/plain": [
       "[<matplotlib.lines.Line2D at 0x7fadd85be950>]"
      ]
     },
     "execution_count": 48,
     "metadata": {},
     "output_type": "execute_result"
    },
    {
     "data": {
      "image/png": "[encoded data removed]",
      "text/plain": [
       "<Figure size 432x288 with 1 Axes>"
      ]
     },
     "metadata": {
      "needs_background": "light"
     },
     "output_type": "display_data"
    }
   ],
   "source": [
    "import matplotlib.pyplot as plt\n",
    "%matplotlib inline \n",
    "# To keep your plots embedded\n",
    "\n",
    "plt.plot(list(range(0, 1001, 1)), gradient_descent(1,1000,2.0), color='red')\n",
    "plt.plot(list(range(0, 1001, 1)), gradient_descent(0.1,1000,2.0), color='green')\n",
    "plt.plot(list(range(0, 1001, 1)), gradient_descent(0.01,1000,2.0), color='blue')"
   ]
  },
  {
   "cell_type": "markdown",
   "metadata": {},
   "source": [
    "For the next few problems we will be comparing fixed and diminishing learning rates"
   ]
  },
  {
   "cell_type": "markdown",
   "metadata": {},
   "source": [
    "Take the following cost function:\n",
    "\\begin{equation}\n",
    "g(w) = \\left \\vert w \\right \\vert\n",
    "\\end{equation}"
   ]
  },
  {
   "cell_type": "markdown",
   "metadata": {},
   "source": [
    "4) [5 points] Is this function convex? If no, why not? If yes, where is its global minimum?\n",
    "\n",
    "Yes. Global minimum at 0."
   ]
  },
  {
   "cell_type": "markdown",
   "metadata": {},
   "source": [
    "5) [5 points] What is the derivative of the cost function? \n",
    "\n",
    "-1 if w<0, 1 if w>0, undefined if w=0"
   ]
  },
  {
   "cell_type": "markdown",
   "metadata": {},
   "source": [
    "6) [20 points] Rewrite the gradient descent function from question 2 such that it takes the cost funciton g as input and uses the autograd library to calculate the gradient. The function should return the weight and cost history for each step. Use the code template below.\n",
    "\n",
    "autograd is a python package for automatic calculation of the gradient. Here is a tutorial on it: (http://www.cs.toronto.edu/~rgrosse/courses/csc321_2017/tutorials/tut4.pdf\n",
    "\n",
    "Note that in Python you can pass functions around like any other variables. That is why you can pass the cost function g to the gradient_descent function. \n",
    "\n",
    "You should be able to install it by running \"pip install autograd\" in a cell in your Jupyter notebook."
   ]
  },
  {
   "cell_type": "code",
   "execution_count": 49,
   "metadata": {},
   "outputs": [],
   "source": [
    "from autograd import grad \n",
    "\n",
    "#gradient descent function\n",
    "#inputs: g (cost function), alpha (learning rate parameter), max_its (maximum number of iterations), w (initialization)\n",
    "def gradient_descent(g,alpha,max_its,w0):\n",
    "    ## This is how you use the autograd library to find the gradient of a function  \n",
    "    ##Your code here\n",
    "    gradient=grad(g)\n",
    "    index=0\n",
    "    cost_history=[]\n",
    "    weight_history=[]\n",
    "    while index<max_its:\n",
    "        index+=1\n",
    "        cost_history.append(g(w0))\n",
    "        w1=w0-alpha*gradient(w0)\n",
    "        weight_history.append(w1)\n",
    "        w0=w1\n",
    "        \n",
    "    return weight_history,cost_history\n"
   ]
  },
  {
   "cell_type": "markdown",
   "metadata": {},
   "source": [
    "7) [10 points] Make a run of max_its=20 steps of gradient descent with initialization at the point $w^0 = 1.75$, and a fixed learning rate of $\\alpha = 0.5$. Using the cost and weight history, plot the cost as a function of the weight for each step (cost on y-axis, weight on x-axis). Recall that the terms weight and parameter used interchangeably and both refer to w."
   ]
  },
  {
   "cell_type": "code",
   "execution_count": 50,
   "metadata": {},
   "outputs": [
    {
     "data": {
      "text/plain": [
       "[<matplotlib.lines.Line2D at 0x7fadc84bfa10>]"
      ]
     },
     "execution_count": 50,
     "metadata": {},
     "output_type": "execute_result"
    },
    {
     "data": {
      "image/png": "[encoded data removed]",
      "text/plain": [
       "<Figure size 432x288 with 1 Axes>"
      ]
     },
     "metadata": {
      "needs_background": "light"
     },
     "output_type": "display_data"
    }
   ],
   "source": [
    "def g(w0):\n",
    "    return (1/50)*(w0**4+w0**2+10*w0-50)\n",
    "\n",
    "plt.plot( gradient_descent(g,0.5,20,1.75)[0], gradient_descent(g,0.5,20,1.75)[1], color='blue')"
   ]
  },
  {
   "cell_type": "markdown",
   "metadata": {},
   "source": [
    "8) [15 points] Make a run of max_its=20 steps of gradient descent with initialization at the point $w^0 = 1.75$, using the diminishing rule $\\alpha = \\frac{1}{k}$ (for this you have to modify the gradient_descent function slightly. Use the code template below. Using the cost and wiehgt history, plot the cost as a function of the weight for each step (cost on y-axis, weight on x-axis)"
   ]
  },
  {
   "cell_type": "code",
   "execution_count": 51,
   "metadata": {},
   "outputs": [
    {
     "data": {
      "text/plain": [
       "[<matplotlib.lines.Line2D at 0x7fadc861dd90>]"
      ]
     },
     "execution_count": 51,
     "metadata": {},
     "output_type": "execute_result"
    },
    {
     "data": {
      "image/png": "[encoded data removed]",
      "text/plain": [
       "<Figure size 432x288 with 1 Axes>"
      ]
     },
     "metadata": {
      "needs_background": "light"
     },
     "output_type": "display_data"
    }
   ],
   "source": [
    "from autograd import grad \n",
    "\n",
    "#gradient descent function\n",
    "#inputs: g (cost function), alpha (learning rate parameter), max_its (maximum number of iterations), w (initialization)\n",
    "def gradient_descent(g,alpha,max_its,w0):\n",
    "    gradient = grad(g)   ## This is how you use the autograd library to find the gradient of a function \n",
    "    ##Your code here\n",
    "    index=0\n",
    "    cost_history=[]\n",
    "    weight_history=[]\n",
    "    if alpha==\"diminishing\":\n",
    "        while index<max_its:\n",
    "            index+=1\n",
    "            cost_history.append(g(w0))\n",
    "            w1=w0-gradient(w0)/index\n",
    "            weight_history.append(w1)\n",
    "            w0=w1\n",
    "        pass\n",
    "    else:\n",
    "        while index<max_its:\n",
    "            index+=1\n",
    "            cost_history.append(g(w0))\n",
    "            w1=w0-alpha*gradient(w0)\n",
    "            weight_history.append(w1)\n",
    "            w0=w1\n",
    "        pass\n",
    "    return weight_history,cost_history\n",
    "plt.plot(gradient_descent(g,\"diminishing\",20,1.75)[0], gradient_descent(g,\"diminishing\",20,1.75)[1], color='blue')\n"
   ]
  },
  {
   "cell_type": "markdown",
   "metadata": {},
   "source": [
    "9) [10 points]  Generate a single plot showing the cost as a function of step number for both runs (combine all  runs into a single plot). Which approach works better? Why ? the non diminishing alpha appears to result in a lower cost function value, thus it appears to work better. This is likely because the diminishing alpha reduces its magnitude too quickly, and thus stops approaching the min at a rapid enough pace. The non diminishing alpha was well chosen and meets the minimum quickly, without oscillating."
   ]
  },
  {
   "cell_type": "code",
   "execution_count": 52,
   "metadata": {},
   "outputs": [
    {
     "data": {
      "text/plain": [
       "[<matplotlib.lines.Line2D at 0x7fadc8533150>]"
      ]
     },
     "execution_count": 52,
     "metadata": {},
     "output_type": "execute_result"
    },
    {
     "data": {
      "image/png": "[encoded data removed]",
      "text/plain": [
       "<Figure size 432x288 with 1 Axes>"
      ]
     },
     "metadata": {
      "needs_background": "light"
     },
     "output_type": "display_data"
    }
   ],
   "source": [
    "plt.plot(list(range(0, 20, 1)), gradient_descent(g,\"diminishing\",20,1.75)[1], color='blue')\n",
    "plt.plot(list(range(0, 20, 1)), gradient_descent(g,1,20,1.75)[1], color='red')\n"
   ]
  },
  {
   "cell_type": "markdown",
   "metadata": {},
   "source": [
    "We will now look at the oscilating behavior of gradient descent. \n",
    "\n",
    "Take the following cost function:\n",
    "$g(w) = w_0^2 + w_1^2 + 2\\sin(1.5 (w_0 + w_1)) +2$\n",
    "\n",
    "Note that this cost function has two parameters."
   ]
  },
  {
   "cell_type": "markdown",
   "metadata": {},
   "source": [
    "10) [5 points] Make sure your gradient descent function from problem 6 can handle cost functions with more than one parameter. You may need to rewrite it if you were not careful. Use the code template below (if your function from problem 6 is good, you can just copy and paste it here)"
   ]
  },
  {
   "cell_type": "code",
   "execution_count": 53,
   "metadata": {},
   "outputs": [],
   "source": [
    "from autograd import grad \n",
    "\n",
    "def g(w):\n",
    "    \n",
    "    return  w[0]**2+w[1]**2+2*np.sin(1.5*(w[0]+w[1]))+2\n",
    "#gradient descent function\n",
    "#inputs: g (cost function), alpha (learning rate parameter), max_its (maximum number of iterations), w (initialization)\n",
    "def gradient_descent(g,alpha,max_its,w):\n",
    "    \n",
    "    ##Your code here\n",
    "    index=0\n",
    "    cost_history=[]\n",
    "    weight_history=[]\n",
    "    while index<max_its:\n",
    "        index+=1\n",
    "        cost_history.append(g(w))\n",
    "        w=w-alpha*np.tanh(w)\n",
    "        \n",
    "    \n",
    "    return cost_history\n"
   ]
  },
  {
   "cell_type": "markdown",
   "metadata": {},
   "source": [
    "11) [10 points] Run the gradient_descent function with the cost function above three times with the following parameters. Generate a single plot showing the cost as a function of step number for all three runs (combine all three runs into a single plot). Use the code template below. Which alpha leads to an oscillating behavior?\n",
    "\n",
    "\n",
    "alpha=1 leads to oscillating behavior. This is predictable because a large alpha can overshoot the minimum repeatedly. \n",
    "\n",
    "$w^0$ = [3.0,3.0]\n",
    "max_its = 10\n",
    "\n",
    "# first run\n",
    "alpha = 0.01\n",
    "# second run\n",
    "alpha = 0.1\n",
    "# third run\n",
    "alpha = 1\n",
    "\n"
   ]
  },
  {
   "cell_type": "code",
   "execution_count": 56,
   "metadata": {},
   "outputs": [
    {
     "data": {
      "text/plain": [
       "[<matplotlib.lines.Line2D at 0x7fadc85ae110>]"
      ]
     },
     "execution_count": 56,
     "metadata": {},
     "output_type": "execute_result"
    },
    {
     "data": {
      "image/png": "[encoded data removed]",
      "text/plain": [
       "<Figure size 432x288 with 1 Axes>"
      ]
     },
     "metadata": {
      "needs_background": "light"
     },
     "output_type": "display_data"
    }
   ],
   "source": [
    "import autograd.numpy as np\n",
    "#Your code here\n",
    "plt.plot(list(range(0, 10, 1)), gradient_descent(g, 0.01, 10, np.array([3.0, 3.0])), color='red')\n",
    "plt.plot(list(range(0, 10, 1)), gradient_descent(g, 0.1, 10, np.array([3.0, 3.0])), color='blue')\n",
    "plt.plot(list(range(0, 10, 1)), gradient_descent(g, 1, 10, np.array([3.0, 3.0])), color='black')"
   ]
  },
  {
   "cell_type": "markdown",
   "metadata": {},
   "source": [
    "12) [15 points] This problem is about learning to tune fixed step length for gradient descent. Here, you are given a cost function:\n",
    "$g(w) = 2w_0^2 + w_1^2 +4w_2^2$ \n",
    "\n",
    "Assume your $w^0$= [5,5,5] and your max_iter = 100\n",
    "\n",
    "Use your latest gradient descent function with a fixed learning rate. Play around with at least 5 different values of alpha (using your intuition). Generate a single plot of the cost as a function of the number of iterations. Which value of alpha seems to converge the fastest?\n",
    "\n",
    "Not that your grade will not depend on how well you do, as long as you try at least 5 different values for alpha and plot them."
   ]
  },
  {
   "cell_type": "code",
   "execution_count": 57,
   "metadata": {},
   "outputs": [],
   "source": [
    "from autograd import grad \n",
    "\n",
    "def g(w):\n",
    "    return  2*w[0]**2+w[1]**2+4*w[2]**2\n",
    "#gradient descent function\n",
    "#inputs: g (cost function), alpha (learning rate parameter), max_its (maximum number of iterations), w (initialization)\n",
    "def gradient_descent(g,alpha,max_its,w):\n",
    "    ## This is how you use the autograd library to find the gradient of a function  \n",
    "    ##Your code here\n",
    "    index=0\n",
    "    cost_history=[]\n",
    "    weight_history=[]\n",
    "    while index<max_its:\n",
    "        index+=1\n",
    "        cost_history.append(g(w))\n",
    "        w=w-alpha*np.tanh(w)\n",
    "    \n",
    "    return cost_history"
   ]
  },
  {
   "cell_type": "code",
   "execution_count": null,
   "metadata": {
    "scrolled": true
   },
   "outputs": [],
   "source": []
  },
  {
   "cell_type": "code",
   "execution_count": 59,
   "metadata": {},
   "outputs": [
    {
     "data": {
      "text/plain": [
       "[<matplotlib.lines.Line2D at 0x7fadea62c490>]"
      ]
     },
     "execution_count": 59,
     "metadata": {},
     "output_type": "execute_result"
    },
    {
     "data": {
      "image/png": "[encoded data removed]",
      "text/plain": [
       "<Figure size 432x288 with 1 Axes>"
      ]
     },
     "metadata": {
      "needs_background": "light"
     },
     "output_type": "display_data"
    }
   ],
   "source": [
    "plt.plot(list(range(0, 100, 1)), gradient_descent(g, 0.01, 100, np.array([5, 5, 5])), color='green')\n",
    "plt.plot(list(range(0, 100, 1)), gradient_descent(g, 0.03, 100, np.array([5, 5, 5])), color='blue')\n",
    "plt.plot(list(range(0, 100, 1)), gradient_descent(g, 0.1, 100, np.array([5, 5, 5])), color='black')\n",
    "plt.plot(list(range(0, 100, 1)), gradient_descent(g, 0.3, 100, np.array([5, 5, 5])), color='purple')\n",
    "plt.plot(list(range(0, 100, 1)), gradient_descent(g, 1, 100, np.array([5, 5, 5])), color='red')"
   ]
  },
  {
   "cell_type": "markdown",
   "metadata": {},
   "source": [
    "Fastest alpha convergence appears to occur when alpha=1, which is the largest alpha value tested."
   ]
  }
 ],
 "metadata": {
  "kernelspec": {
   "display_name": "Python 3 (ipykernel)",
   "language": "python",
   "name": "python3"
  },
  "language_info": {
   "codemirror_mode": {
    "name": "ipython",
    "version": 3
   },
   "file_extension": ".py",
   "mimetype": "text/x-python",
   "name": "python",
   "nbconvert_exporter": "python",
   "pygments_lexer": "ipython3",
   "version": "3.7.11"
  }
 },
 "nbformat": 4,
 "nbformat_minor": 2
}
